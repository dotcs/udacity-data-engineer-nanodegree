{
 "cells": [
  {
   "cell_type": "markdown",
   "metadata": {},
   "source": [
    "# Part I. ETL Pipeline for Pre-Processing the Files"
   ]
  },
  {
   "cell_type": "markdown",
   "metadata": {},
   "source": [
    "## PLEASE RUN THE FOLLOWING CODE FOR PRE-PROCESSING THE FILES"
   ]
  },
  {
   "cell_type": "markdown",
   "metadata": {},
   "source": [
    "#### Import Python packages "
   ]
  },
  {
   "cell_type": "code",
   "execution_count": null,
   "metadata": {},
   "outputs": [],
   "source": [
    "# Import Python packages \n",
    "import pandas as pd\n",
    "import cassandra\n",
    "import re\n",
    "import os\n",
    "import glob\n",
    "import pandas as pd\n",
    "import numpy as np\n",
    "import json\n",
    "import csv"
   ]
  },
  {
   "cell_type": "markdown",
   "metadata": {},
   "source": [
    "#### Creating list of filepaths to process original event csv data files"
   ]
  },
  {
   "cell_type": "code",
   "execution_count": null,
   "metadata": {},
   "outputs": [],
   "source": [
    "# checking your current working directory\n",
    "print(os.getcwd())\n",
    "\n",
    "# Get your current folder and subfolder event data\n",
    "filepath = os.getcwd() + '/event_data'\n",
    "\n",
    "# Create a for loop to create a list of files and collect each filepath\n",
    "for root, dirs, files in os.walk(filepath):\n",
    "    \n",
    "# join the file path and roots with the subdirectories using glob\n",
    "    file_path_list = glob.glob(os.path.join(root,'*'))\n",
    "    #print(file_path_list)"
   ]
  },
  {
   "cell_type": "markdown",
   "metadata": {},
   "source": [
    "#### Processing the files to create the data file csv that will be used for Apache Casssandra tables"
   ]
  },
  {
   "cell_type": "code",
   "execution_count": null,
   "metadata": {},
   "outputs": [],
   "source": [
    "# initiating an empty list of rows that will be generated from each file\n",
    "full_data_rows_list = [] \n",
    "    \n",
    "# for every filepath in the file path list \n",
    "for f in file_path_list:\n",
    "\n",
    "# reading csv file \n",
    "    with open(f, 'r', encoding = 'utf8', newline='') as csvfile: \n",
    "        # creating a csv reader object \n",
    "        csvreader = csv.reader(csvfile) \n",
    "        next(csvreader)\n",
    "        \n",
    " # extracting each data row one by one and append it        \n",
    "        for line in csvreader:\n",
    "            #print(line)\n",
    "            full_data_rows_list.append(line) \n",
    "            \n",
    "# uncomment the code below if you would like to get total number of rows \n",
    "#print(len(full_data_rows_list))\n",
    "# uncomment the code below if you would like to check to see what the list of event data rows will look like\n",
    "#print(full_data_rows_list)\n",
    "\n",
    "# creating a smaller event data csv file called event_datafile_full csv that will be used to insert data into the \\\n",
    "# Apache Cassandra tables\n",
    "csv.register_dialect('myDialect', quoting=csv.QUOTE_ALL, skipinitialspace=True)\n",
    "\n",
    "with open('event_datafile_new.csv', 'w', encoding = 'utf8', newline='') as f:\n",
    "    writer = csv.writer(f, dialect='myDialect')\n",
    "    writer.writerow(['artist','firstName','gender','itemInSession','lastName','length',\\\n",
    "                'level','location','sessionId','song','userId'])\n",
    "    for row in full_data_rows_list:\n",
    "        if (row[0] == ''):\n",
    "            continue\n",
    "        writer.writerow((row[0], row[2], row[3], row[4], row[5], row[6], row[7], row[8], row[12], row[13], row[16]))\n"
   ]
  },
  {
   "cell_type": "code",
   "execution_count": null,
   "metadata": {},
   "outputs": [],
   "source": [
    "# check the number of rows in your csv file\n",
    "with open('event_datafile_new.csv', 'r', encoding = 'utf8') as f:\n",
    "    print(sum(1 for line in f))"
   ]
  },
  {
   "cell_type": "markdown",
   "metadata": {},
   "source": [
    "# Part II. Complete the Apache Cassandra coding portion of your project. \n",
    "\n",
    "## Now you are ready to work with the CSV file titled <font color=red>event_datafile_new.csv</font>, located within the Workspace directory.  The event_datafile_new.csv contains the following columns: \n",
    "- artist \n",
    "- firstName of user\n",
    "- gender of user\n",
    "- item number in session\n",
    "- last name of user\n",
    "- length of the song\n",
    "- level (paid or free song)\n",
    "- location of the user\n",
    "- sessionId\n",
    "- song title\n",
    "- userId\n",
    "\n",
    "The image below is a screenshot of what the denormalized data should appear like in the <font color=red>**event_datafile_new.csv**</font> after the code above is run:<br>\n",
    "\n",
    "<img src=\"images/image_event_datafile_new.jpg\">"
   ]
  },
  {
   "cell_type": "markdown",
   "metadata": {},
   "source": [
    "## Begin writing your Apache Cassandra code in the cells below"
   ]
  },
  {
   "cell_type": "markdown",
   "metadata": {},
   "source": [
    "#### Creating a Cluster"
   ]
  },
  {
   "cell_type": "code",
   "execution_count": null,
   "metadata": {},
   "outputs": [],
   "source": [
    "# This should make a connection to a Cassandra instance your local machine \n",
    "# (127.0.0.1)\n",
    "\n",
    "from cassandra.cluster import Cluster\n",
    "cluster = Cluster()\n",
    "\n",
    "# To establish connection and begin executing queries, need a session\n",
    "session = cluster.connect()"
   ]
  },
  {
   "cell_type": "markdown",
   "metadata": {},
   "source": [
    "#### Create Keyspace"
   ]
  },
  {
   "cell_type": "code",
   "execution_count": null,
   "metadata": {},
   "outputs": [],
   "source": [
    "keyspace = 'udacity'\n",
    "\n",
    "session.execute(\"\"\"\n",
    "CREATE KEYSPACE IF NOT EXISTS %s\n",
    "WITH replication = { 'class': 'SimpleStrategy', 'replication_factor': '1' }\n",
    "\"\"\" % keyspace);"
   ]
  },
  {
   "cell_type": "markdown",
   "metadata": {},
   "source": [
    "#### Set Keyspace"
   ]
  },
  {
   "cell_type": "code",
   "execution_count": null,
   "metadata": {},
   "outputs": [],
   "source": [
    "session.set_keyspace(keyspace)"
   ]
  },
  {
   "cell_type": "markdown",
   "metadata": {},
   "source": [
    "#### Utils functions"
   ]
  },
  {
   "cell_type": "code",
   "execution_count": null,
   "metadata": {},
   "outputs": [],
   "source": [
    "def row_from_line(columns, fields):\n",
    "    \"\"\"\n",
    "    Function that uses the column names and a list of fields (of a single row) to create a \n",
    "    python dictionary whose keys are the column names and values are the corresponding field \n",
    "    values.\n",
    "    The function casts types based on the data type of the column. The mapping is hard-coded\n",
    "    in this function.\n",
    "    \n",
    "    :param columns: List of strings that describe the header\n",
    "    :param fields: List of fields within a single row (each item is a string).\n",
    "    \"\"\"\n",
    "    ret = {}\n",
    "    for i, c in enumerate(columns):\n",
    "        if c in ['artist', 'firstName', 'gender', 'lastName', 'level', 'location', 'song']:\n",
    "            ret[c] = fields[i]\n",
    "        elif c in ['itemInSession', 'sessionId', 'userId']:\n",
    "            ret[c] = int(fields[i])\n",
    "        elif c in ['length']:\n",
    "            ret[c] = float(fields[i])\n",
    "        else:\n",
    "            raise RuntimeError(\"Field '{}' is unknown and cannot be parsed.\".format(c))\n",
    "    return ret"
   ]
  },
  {
   "cell_type": "markdown",
   "metadata": {},
   "source": [
    "### Now we need to create tables to run the following queries. Remember, with Apache Cassandra you model the database tables on the queries you want to run."
   ]
  },
  {
   "cell_type": "markdown",
   "metadata": {},
   "source": [
    "### Exercise 1\n",
    "\n",
    "The table `song_info_by_session` uses the `session_id` as its partition key and `item_in_session` as its clustering key.\n",
    "It also stores the fields `artist`, `song` and `length` and thus can answer question like: \n",
    "> Give me the artist, song title and song's length in the music app history that was heard during sessionId = 338, and itemInSession = 4\n",
    "\n",
    "All variables related to exercise 1 are prefixed with `ex1_`."
   ]
  },
  {
   "cell_type": "code",
   "execution_count": null,
   "metadata": {},
   "outputs": [],
   "source": [
    "ex1_create = session.prepare(\"\"\"\n",
    "CREATE TABLE IF NOT EXISTS song_info_by_session (\n",
    "    session_id int,\n",
    "    item_in_session int,\n",
    "    artist text,\n",
    "    song text,\n",
    "    length float,\n",
    "    PRIMARY KEY (session_id, item_in_session)\n",
    ")\n",
    "\"\"\")\n",
    "ex1_create.__doc__ = \"\"\"\n",
    "\n",
    "\"\"\"\n",
    "\n",
    "# Create database table\n",
    "session.execute(ex1_create);\n",
    "\n",
    "ex1_query = session.prepare(\"\"\"\n",
    "SELECT artist, song, length\n",
    "FROM song_info_by_session\n",
    "WHERE session_id = ? \n",
    "    AND item_in_session = ?\n",
    "\"\"\")\n",
    "\n",
    "ex1_insert = session.prepare(\"\"\"\n",
    "INSERT INTO song_info_by_session (session_id, item_in_session, artist, song, length)\n",
    "VALUES (?, ?, ?, ?, ?)\n",
    "\"\"\")"
   ]
  },
  {
   "cell_type": "markdown",
   "metadata": {},
   "source": [
    "### Exercise 2\n",
    "\n",
    "The table `song_and_user_info_by_user_and_session` uses the `user_id` and `session_id`as its partition key. It uses `item_in_session` as its clustering key (for sorting).\n",
    "The table also stores the fields `artist`, `song` and `user` (which is composed from `first_name` and `last_name`) and thus can answer question like: \n",
    "> Give me only the following: name of artist, song (sorted by itemInSession) and user (first and last name) for userid = 10, sessionid = 182\n",
    "\n",
    "All variables related to exercise 2 are prefixed with `ex2_`."
   ]
  },
  {
   "cell_type": "code",
   "execution_count": null,
   "metadata": {},
   "outputs": [],
   "source": [
    "## Query 2: \n",
    "\n",
    "ex2_create = session.prepare(\"\"\"\n",
    "CREATE TABLE IF NOT EXISTS song_and_user_info_by_user_and_session (\n",
    "    user_id int,\n",
    "    session_id int,\n",
    "    item_in_session int,\n",
    "    artist text,\n",
    "    song text,\n",
    "    user text,\n",
    "    PRIMARY KEY ((user_id, session_id), item_in_session)\n",
    ")\n",
    "\"\"\")\n",
    "\n",
    "# Create database table\n",
    "session.execute(ex2_create);\n",
    "\n",
    "ex2_query = session.prepare(\"\"\"\n",
    "SELECT artist, song, user\n",
    "FROM song_and_user_info_by_user_and_session\n",
    "WHERE user_id = ? \n",
    "    AND session_id = ?\n",
    "\"\"\")\n",
    "\n",
    "ex2_insert = session.prepare(\"\"\"\n",
    "INSERT INTO song_and_user_info_by_user_and_session (user_id, session_id, item_in_session, artist, song, user)\n",
    "VALUES (?, ?, ?, ?, ?, ?)\n",
    "\"\"\")"
   ]
  },
  {
   "cell_type": "markdown",
   "metadata": {},
   "source": [
    "### Exercise 3\n",
    "\n",
    "The table `user_info_by_song_title` uses `song` (text) as its partition key. It also utilizes `user_id` as its clustering key, which is needed in case many users listened to the same song (uniqueness).\n",
    "The table also stores the fields `first_name` and `last_name` and thus can answer question like: \n",
    "> Give me every user name (first and last) in my music app history who listened to the song 'All Hands Against His Own'\n",
    "\n",
    "All variables related to exercise 3 are prefixed with `ex3_`."
   ]
  },
  {
   "cell_type": "code",
   "execution_count": null,
   "metadata": {},
   "outputs": [],
   "source": [
    "ex3_create = session.prepare(\"\"\"\n",
    "CREATE TABLE IF NOT EXISTS user_info_by_song_title (\n",
    "    song text,\n",
    "    user_id int,\n",
    "    first_name text,\n",
    "    last_name text,\n",
    "    PRIMARY KEY ((song), user_id)\n",
    ")\n",
    "\"\"\")\n",
    "\n",
    "# Create database table\n",
    "session.execute(ex3_create);\n",
    "\n",
    "ex3_query = session.prepare(\"\"\"\n",
    "SELECT first_name, last_name\n",
    "FROM user_info_by_song_title\n",
    "WHERE song = ?\n",
    "\"\"\")\n",
    "\n",
    "ex3_insert = session.prepare(\"\"\"\n",
    "INSERT INTO user_info_by_song_title (song, user_id, first_name, last_name)\n",
    "VALUES (?, ?, ?, ?)\n",
    "\"\"\")"
   ]
  },
  {
   "cell_type": "markdown",
   "metadata": {},
   "source": [
    "## Process and insert values\n",
    "\n",
    "In this step we read the CSV file and insert data in all three tables in a single pass."
   ]
  },
  {
   "cell_type": "code",
   "execution_count": null,
   "metadata": {},
   "outputs": [],
   "source": [
    "# We have provided part of the code to set up the CSV file. Please complete the Apache Cassandra code below\n",
    "file = 'event_datafile_new.csv'\n",
    "\n",
    "with open(file, encoding = 'utf8') as f:\n",
    "    csvreader = csv.reader(f)\n",
    "    header = next(csvreader)\n",
    "    for line in csvreader:\n",
    "        row = row_from_line(header, line)\n",
    "        user = '{} {}'.format(row['firstName'], row['lastName'])\n",
    "        session.execute(ex1_insert, (row['sessionId'], row['itemInSession'], row['artist'], row['song'], row['length']))\n",
    "        session.execute(ex2_insert, (row['userId'], row['sessionId'], row['itemInSession'], row['artist'], row['song'], user))\n",
    "        session.execute(ex3_insert, (row['song'], row['userId'], row['firstName'], row['lastName']))"
   ]
  },
  {
   "cell_type": "markdown",
   "metadata": {},
   "source": [
    "## Answers\n",
    "\n",
    "This section gives answers to the following questions:\n",
    "\n",
    "1. Give me the artist, song title and song's length in the music app history that was heard during  sessionId = 338, and itemInSession  = 4\n",
    "2. Give me only the following: name of artist, song (sorted by itemInSession) and user (first and last name) for userid = 10, sessionid = 182\n",
    "3. Give me every user name (first and last) in my music app history who listened to the song 'All Hands Against His Own'"
   ]
  },
  {
   "cell_type": "code",
   "execution_count": null,
   "metadata": {
    "scrolled": true
   },
   "outputs": [],
   "source": [
    "## Query 1\n",
    "rows = session.execute(ex1_query, (338, 4))\n",
    "\n",
    "pd.DataFrame(list(rows))"
   ]
  },
  {
   "cell_type": "code",
   "execution_count": null,
   "metadata": {},
   "outputs": [],
   "source": [
    "# Query 2\n",
    "rows = session.execute(ex2_query, (10, 182))\n",
    "\n",
    "pd.DataFrame(list(rows))"
   ]
  },
  {
   "cell_type": "code",
   "execution_count": null,
   "metadata": {},
   "outputs": [],
   "source": [
    "## Query 3\n",
    "rows = session.execute(ex3_query, ('All Hands Against His Own',))\n",
    "\n",
    "pd.DataFrame(list(rows))"
   ]
  },
  {
   "cell_type": "markdown",
   "metadata": {},
   "source": [
    "### Drop the tables before closing out the sessions"
   ]
  },
  {
   "cell_type": "code",
   "execution_count": null,
   "metadata": {},
   "outputs": [],
   "source": [
    "ex1_delete = session.prepare(\"DROP TABLE IF EXISTS song_info_by_session\");\n",
    "ex2_delete = session.prepare(\"DROP TABLE IF EXISTS song_and_user_info_by_user_and_session\");\n",
    "ex3_delete = session.prepare(\"DROP TABLE IF EXISTS user_info_by_song_title\");"
   ]
  },
  {
   "cell_type": "code",
   "execution_count": null,
   "metadata": {},
   "outputs": [],
   "source": [
    "for query in [ex1_delete, ex2_delete, ex3_delete]:\n",
    "    session.execute(query);"
   ]
  },
  {
   "cell_type": "markdown",
   "metadata": {},
   "source": [
    "### Close the session and cluster connection¶"
   ]
  },
  {
   "cell_type": "code",
   "execution_count": null,
   "metadata": {},
   "outputs": [],
   "source": [
    "session.shutdown()\n",
    "cluster.shutdown()"
   ]
  },
  {
   "cell_type": "code",
   "execution_count": null,
   "metadata": {},
   "outputs": [],
   "source": []
  }
 ],
 "metadata": {
  "kernelspec": {
   "display_name": "Python 3",
   "language": "python",
   "name": "python3"
  },
  "language_info": {
   "codemirror_mode": {
    "name": "ipython",
    "version": 3
   },
   "file_extension": ".py",
   "mimetype": "text/x-python",
   "name": "python",
   "nbconvert_exporter": "python",
   "pygments_lexer": "ipython3",
   "version": "3.7.5"
  }
 },
 "nbformat": 4,
 "nbformat_minor": 4
}
